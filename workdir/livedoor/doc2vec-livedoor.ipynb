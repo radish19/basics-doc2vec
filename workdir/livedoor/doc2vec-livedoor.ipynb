{
 "cells": [
  {
   "cell_type": "code",
   "execution_count": 1,
   "metadata": {},
   "outputs": [],
   "source": [
    "import os\n",
    "import glob\n",
    "import re\n",
    "import numpy as np"
   ]
  },
  {
   "cell_type": "markdown",
   "metadata": {},
   "source": [
    "## 前処理"
   ]
  },
  {
   "cell_type": "code",
   "execution_count": 2,
   "metadata": {},
   "outputs": [],
   "source": [
    "from janome.tokenizer import Tokenizer\n",
    "from janome.analyzer import Analyzer\n",
    "from janome.tokenfilter import POSKeepFilter\n",
    "\n",
    "t = Tokenizer()\n",
    "token_filters = [POSKeepFilter(['名詞'])]\n",
    "a = Analyzer([], t, token_filters)"
   ]
  },
  {
   "cell_type": "code",
   "execution_count": 3,
   "metadata": {},
   "outputs": [],
   "source": [
    "# ファイルからノイズをとってわかち書きlistを返す\n",
    "def wakatigaki(file_path):\n",
    "    tokens = []\n",
    "    with open(file_path, mode=\"r\", encoding=\"utf-8\") as f:\n",
    "        text = f.read()\n",
    "\n",
    "        # ノイズを削除\n",
    "        text = re.sub(r'[0-9a-zA-Z]+', '', text)\n",
    "        text = re.sub(r'[:;/+\\.-]', '', text)\n",
    "        text = re.sub(r'[\\s\\n]', '', text)\n",
    "\n",
    "        # 形態素解析してわかち書きにする\n",
    "        for token in a.analyze(text):\n",
    "            tokens.append(token.surface)\n",
    "    return tokens"
   ]
  },
  {
   "cell_type": "code",
   "execution_count": 4,
   "metadata": {},
   "outputs": [],
   "source": [
    "# ラベルとわかち書きlistを返す（学習データ用）\n",
    "def label_wakatigaki_mapper_for_train(dir_list):\n",
    "    res = []\n",
    "    for dir_name in dir_list:\n",
    "        data = {\n",
    "            'label': [],\n",
    "            'wakatigaki': []\n",
    "        }\n",
    "        print(\"処理中:{}\".format(dir_name))\n",
    "        data['label'].append(re.match('(\\.\\/.*\\/)(.*)(\\/)', dir_name).group(2))\n",
    "        for file_path in glob.glob(dir_name + \"/*.txt\"):\n",
    "            if \"LICENSE\" in file_path:\n",
    "                continue        \n",
    "            data['wakatigaki'].extend(wakatigaki(file_path))\n",
    "        res.append(data)\n",
    "    print(\"完了\")\n",
    "    return res"
   ]
  },
  {
   "cell_type": "code",
   "execution_count": 5,
   "metadata": {},
   "outputs": [],
   "source": [
    "from gensim.models.doc2vec import Doc2Vec\n",
    "from gensim.models.doc2vec import TaggedDocument"
   ]
  },
  {
   "cell_type": "code",
   "execution_count": 6,
   "metadata": {},
   "outputs": [
    {
     "name": "stdout",
     "output_type": "stream",
     "text": [
      "処理中:./train-text/dokujo-tsushin/\n",
      "処理中:./train-text/it-life-hack/\n",
      "処理中:./train-text/kaden-channel/\n",
      "処理中:./train-text/livedoor-homme/\n",
      "処理中:./train-text/movie-enter/\n",
      "処理中:./train-text/peachy/\n",
      "処理中:./train-text/smax/\n",
      "処理中:./train-text/sports-watch/\n",
      "処理中:./train-text/topic-news/\n",
      "完了\n"
     ]
    }
   ],
   "source": [
    "tagged_document = [\n",
    "    TaggedDocument(\n",
    "        words=data['wakatigaki'],\n",
    "        tags=data['label']\n",
    "    ) for data in label_wakatigaki_mapper_for_train(glob.glob(\"./train-text/*/\"))\n",
    "]"
   ]
  },
  {
   "cell_type": "markdown",
   "metadata": {},
   "source": [
    "## モデルの作成と学習"
   ]
  },
  {
   "cell_type": "code",
   "execution_count": 7,
   "metadata": {},
   "outputs": [],
   "source": [
    "model = Doc2Vec(tagged_document, dm=1, vector_size=300, window=5, min_count=1)"
   ]
  },
  {
   "cell_type": "code",
   "execution_count": 8,
   "metadata": {},
   "outputs": [],
   "source": [
    "model.save('./model/doc2vec.model')\n",
    "model = Doc2Vec.load('./model/doc2vec.model')"
   ]
  },
  {
   "cell_type": "code",
   "execution_count": 9,
   "metadata": {},
   "outputs": [],
   "source": [
    "# TODO: 学習データ用のやつとかぶっているのでリファクタリング。学習用のテキストデータをひとつのファイルに先にまとめればこの関数が使える。\n",
    "# ラベルとわかち書きを返す（テストデータ用）\n",
    "def label_wakatigaki_mapper_for_test(dir_list):\n",
    "    res = []\n",
    "    for dir_name in dir_list:\n",
    "        print(\"処理中:{}\".format(dir_name))\n",
    "        for file_path in glob.glob(dir_name + \"/*.txt\"):\n",
    "            if \"LICENSE\" in file_path:\n",
    "                continue        \n",
    "            docterm = {\n",
    "                'label': [],\n",
    "                'wakatigaki': []\n",
    "            }\n",
    "            docterm['label'].append(re.match('(\\.\\/.*\\/)(.*)(\\/)', dir_name).group(2))\n",
    "            docterm['wakatigaki'].extend(wakatigaki(file_path))\n",
    "            res.append(docterm)\n",
    "    print(\"完了\")\n",
    "    return res"
   ]
  },
  {
   "cell_type": "code",
   "execution_count": 10,
   "metadata": {},
   "outputs": [
    {
     "name": "stdout",
     "output_type": "stream",
     "text": [
      "処理中:./test-text/dokujo-tsushin/\n",
      "処理中:./test-text/it-life-hack/\n",
      "処理中:./test-text/kaden-channel/\n",
      "処理中:./test-text/livedoor-homme/\n",
      "処理中:./test-text/movie-enter/\n",
      "処理中:./test-text/peachy/\n",
      "処理中:./test-text/smax/\n",
      "処理中:./test-text/sports-watch/\n",
      "処理中:./test-text/topic-news/\n",
      "完了\n"
     ]
    }
   ],
   "source": [
    "test_dict = label_wakatigaki_mapper_for_test(glob.glob('./test-text/*/'))"
   ]
  },
  {
   "cell_type": "markdown",
   "metadata": {},
   "source": [
    "## 予測と評価"
   ]
  },
  {
   "cell_type": "code",
   "execution_count": 11,
   "metadata": {},
   "outputs": [],
   "source": [
    "res_list = []\n",
    "for i in range(len(test_dict)):\n",
    "    res_dict = {}\n",
    "    res_dict['label'] = test_dict[i]['label'][0] # ラベル\n",
    "    res_dict['prediction'] = model.docvecs.most_similar([model.infer_vector(test_dict[i]['wakatigaki'])], topn=1)[0][0] # 予測\n",
    "    res_dict['flg'] = (res_dict['prediction'] == res_dict['label']) # 正否\n",
    "    res_list.append(res_dict)"
   ]
  },
  {
   "cell_type": "markdown",
   "metadata": {},
   "source": [
    "全体の精度"
   ]
  },
  {
   "cell_type": "code",
   "execution_count": 12,
   "metadata": {},
   "outputs": [
    {
     "data": {
      "text/plain": [
       "0.41140529531568226"
      ]
     },
     "execution_count": 12,
     "metadata": {},
     "output_type": "execute_result"
    }
   ],
   "source": [
    "np.sum([elem['flg'] for elem in res_list]) / len(res_list)"
   ]
  },
  {
   "cell_type": "markdown",
   "metadata": {},
   "source": [
    "カテゴリ別精度"
   ]
  },
  {
   "cell_type": "code",
   "execution_count": 13,
   "metadata": {},
   "outputs": [
    {
     "name": "stdout",
     "output_type": "stream",
     "text": [
      "dokujo-tsushin:0.7413793103448276\n",
      "it-life-hack:0.1781609195402299\n",
      "kaden-channel:0.3583815028901734\n",
      "livedoor-homme:0.0196078431372549\n",
      "movie-enter:0.4540229885057471\n",
      "peachy:0.13690476190476192\n",
      "smax:0.6896551724137931\n",
      "sports-watch:0.55\n",
      "topic-news:0.3961038961038961\n"
     ]
    }
   ],
   "source": [
    "cat_list = [re.match('(\\.\\/.*\\/)(.*)(\\/)', dir_name).group(2) for dir_name in glob.glob(\"./train-text/*/\")]\n",
    "for cat_name in cat_list:\n",
    "    print(\"{}:{}\".format(cat_name,np.count_nonzero([elem['prediction'] == elem['label']  for elem in res_list if elem['label'] == cat_name]) / np.count_nonzero([elem for elem in res_list if elem['label'] == cat_name])))"
   ]
  }
 ],
 "metadata": {
  "kernelspec": {
   "display_name": "Python 3",
   "language": "python",
   "name": "python3"
  },
  "language_info": {
   "codemirror_mode": {
    "name": "ipython",
    "version": 3
   },
   "file_extension": ".py",
   "mimetype": "text/x-python",
   "name": "python",
   "nbconvert_exporter": "python",
   "pygments_lexer": "ipython3",
   "version": "3.7.4"
  }
 },
 "nbformat": 4,
 "nbformat_minor": 4
}
